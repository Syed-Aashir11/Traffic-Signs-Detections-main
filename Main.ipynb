{
 "cells": [
  {
   "cell_type": "markdown",
   "id": "incredible-publisher",
   "metadata": {},
   "source": [
    "# Libraries"
   ]
  },
  {
   "cell_type": "code",
   "execution_count": null,
   "id": "forbidden-transparency",
   "metadata": {},
   "outputs": [],
   "source": [
    "import numpy as np\n",
    "import matplotlib.pyplot as plt\n",
    "from keras.models import Sequential\n",
    "from keras.layers import Dense\n",
    "from keras.optimizers import Adam\n",
    "from keras.utils.np_utils import to_categorical\n",
    "from keras.layers import Dropout, Flatten\n",
    "from keras.layers.convolutional import Conv2D, MaxPooling2D\n",
    "import cv2\n",
    "from sklearn.model_selection import train_test_split\n",
    "import pickle\n",
    "import os\n",
    "import pandas as pd\n",
    "import random\n",
    "from keras.preprocessing.image import ImageDataGenerator\n",
    " "
   ]
  },
  {
   "cell_type": "markdown",
   "id": "sexual-primary",
   "metadata": {},
   "source": [
    "# Parameters"
   ]
  },
  {
   "cell_type": "code",
   "execution_count": null,
   "id": "comfortable-station",
   "metadata": {},
   "outputs": [],
   "source": [
    "path = \"myData\" # folder with all the class folders\n",
    "labelFile = 'labels.csv' # file with all names of classes\n",
    "batch_size_val=10  # how many to process together\n",
    "steps_per_epoch_val=2000\n",
    "epochs_val=10\n",
    "imageDimesions = (32,32,3)\n",
    "testRatio = 0.2    # if 1000 images split will 200 for testing\n",
    "validationRatio = 0.2 # if 1000 images 20% of remaining 800 will be 160 for validation"
   ]
  },
  {
   "cell_type": "markdown",
   "id": "brown-retention",
   "metadata": {},
   "source": [
    "# Importing of the Images"
   ]
  },
  {
   "cell_type": "code",
   "execution_count": null,
   "id": "upper-serial",
   "metadata": {},
   "outputs": [],
   "source": [
    "count = 0\n",
    "images = []\n",
    "classNo = []\n",
    "myList = os.listdir(path)\n",
    "print(\"Total Classes Detected:\",len(myList))\n",
    "noOfClasses=len(myList)\n",
    "print(\"Importing Classes.....\")\n",
    "for x in range (0,len(myList)):\n",
    "    myPicList = os.listdir(path+\"/\"+str(count))\n",
    "    for y in myPicList:\n",
    "        curImg = cv2.imread(path+\"/\"+str(count)+\"/\"+y)\n",
    "        images.append(curImg)\n",
    "        classNo.append(count)\n",
    "    print(count, end =\" \")\n",
    "    count +=1\n",
    "print(\" \")\n",
    "images = np.array(images)\n",
    "classNo = np.array(classNo)"
   ]
  },
  {
   "cell_type": "markdown",
   "id": "printable-march",
   "metadata": {},
   "source": [
    "# Split Data"
   ]
  },
  {
   "cell_type": "code",
   "execution_count": null,
   "id": "committed-basket",
   "metadata": {},
   "outputs": [],
   "source": [
    "X_train, X_test, y_train, y_test = train_test_split(images, classNo, test_size=testRatio)\n",
    "X_train, X_validation, y_train, y_validation = train_test_split(X_train, \n",
    "                                                                y_train, test_size=validationRatio)\n",
    " \n",
    "# X_train = ARRAY OF IMAGES TO TRAIN\n",
    "# y_train = CORRESPONDING CLASS ID\n",
    " "
   ]
  },
  {
   "cell_type": "markdown",
   "id": "dynamic-flexibility",
   "metadata": {},
   "source": [
    "# TO CHECK IF NUMBER OF IMAGES MATCHES TO NUMBER OF LABELS FOR EACH DATA SET"
   ]
  },
  {
   "cell_type": "code",
   "execution_count": null,
   "id": "practical-landscape",
   "metadata": {},
   "outputs": [],
   "source": [
    "print(\"Data Shapes\")\n",
    "print(\"Train\",end = \"\");print(X_train.shape,y_train.shape)\n",
    "print(\"Validation\",end = \"\");print(X_validation.shape,y_validation.shape)\n",
    "print(\"Test\",end = \"\");print(X_test.shape,y_test.shape)\n",
    "assert(X_train.shape[0]==y_train.shape[0]), \"The number of images in not equal to the number of lables in training set\"\n",
    "assert(X_validation.shape[0]==y_validation.shape[0]), \"The number of images in not equal to the number of lables in validation set\"\n",
    "assert(X_test.shape[0]==y_test.shape[0]), \"The number of images in not equal to the number of lables in test set\"\n",
    "assert(X_train.shape[1:]==(imageDimesions)),\" The dimesions of the Training images are wrong \"\n",
    "assert(X_validation.shape[1:]==(imageDimesions)),\" The dimesionas of the Validation images are wrong \"\n",
    "assert(X_test.shape[1:]==(imageDimesions)),\" The dimesionas of the Test images are wrong\"\n",
    " "
   ]
  },
  {
   "cell_type": "markdown",
   "id": "stylish-operations",
   "metadata": {},
   "source": [
    "# READ CSV FILE"
   ]
  },
  {
   "cell_type": "code",
   "execution_count": null,
   "id": "provincial-south",
   "metadata": {},
   "outputs": [],
   "source": [
    "data=pd.read_csv(labelFile)\n",
    "print(\"data shape \",data.shape,type(data))"
   ]
  },
  {
   "cell_type": "markdown",
   "id": "dominican-threat",
   "metadata": {},
   "source": [
    "# DISPLAY SOME SAMPLES IMAGES  OF ALL THE CLASSES"
   ]
  },
  {
   "cell_type": "code",
   "execution_count": null,
   "id": "emerging-valentine",
   "metadata": {},
   "outputs": [],
   "source": [
    "num_of_samples = []\n",
    "cols = 5\n",
    "num_classes = noOfClasses\n",
    "fig, axs = plt.subplots(nrows=num_classes, ncols=cols, figsize=(5, 300))\n",
    "fig.tight_layout()\n",
    "for i in range(cols):\n",
    "    for j,row in data.iterrows():\n",
    "        x_selected = X_train[y_train == j]\n",
    "        axs[j][i].imshow(x_selected[random.randint(0, len(x_selected)- 1), :, :], \n",
    "                         cmap=plt.get_cmap(\"gray\"))\n",
    "        axs[j][i].axis(\"off\")\n",
    "        if i == 2:\n",
    "            axs[j][i].set_title(str(j)+ \"-\"+row[\"Name\"])\n",
    "            num_of_samples.append(len(x_selected))"
   ]
  },
  {
   "cell_type": "markdown",
   "id": "contained-sister",
   "metadata": {},
   "source": [
    "# DISPLAY A BAR CHART SHOWING NO OF SAMPLES FOR EACH CATEGORY"
   ]
  },
  {
   "cell_type": "code",
   "execution_count": null,
   "id": "widespread-length",
   "metadata": {},
   "outputs": [],
   "source": [
    "print(num_of_samples)\n",
    "plt.figure(figsize=(12, 4))\n",
    "plt.bar(range(0, num_classes), num_of_samples)\n",
    "plt.title(\"Distribution of the training dataset\")\n",
    "plt.xlabel(\"Class number\")\n",
    "plt.ylabel(\"Number of images\")\n",
    "plt.show()"
   ]
  },
  {
   "cell_type": "markdown",
   "id": "marked-facial",
   "metadata": {},
   "source": [
    "# PREPROCESSING THE IMAGES"
   ]
  },
  {
   "cell_type": "code",
   "execution_count": null,
   "id": "athletic-potato",
   "metadata": {},
   "outputs": [],
   "source": [
    "def grayscale(img):\n",
    "    img = cv2.cvtColor(img,cv2.COLOR_BGR2GRAY)\n",
    "    return img\n",
    "def equalize(img):\n",
    "    img =cv2.equalizeHist(img)\n",
    "    return img\n",
    "def preprocessing(img):\n",
    "    img = grayscale(img)     # CONVERT TO GRAYSCALE\n",
    "    img = equalize(img)      # STANDARDIZE THE LIGHTING IN AN IMAGE\n",
    "    img = img/255            # TO NORMALIZE VALUES BETWEEN 0 AND 1 INSTEAD OF 0 TO 255\n",
    "    return img\n",
    " \n",
    "X_train=np.array(list(map(preprocessing,X_train)))  # TO IRETATE AND PREPROCESS ALL IMAGES\n",
    "X_validation=np.array(list(map(preprocessing,X_validation)))\n",
    "X_test=np.array(list(map(preprocessing,X_test)))"
   ]
  },
  {
   "cell_type": "markdown",
   "id": "right-found",
   "metadata": {},
   "source": [
    "# ADD A DEPTH OF 1"
   ]
  },
  {
   "cell_type": "code",
   "execution_count": null,
   "id": "attended-shelf",
   "metadata": {},
   "outputs": [],
   "source": [
    "X_train=X_train.reshape(X_train.shape[0],X_train.shape[1],X_train.shape[2],1)\n",
    "X_validation=X_validation.reshape(X_validation.shape[0],X_validation.shape[1],X_validation.shape[2],1)\n",
    "X_test=X_test.reshape(X_test.shape[0],X_test.shape[1],X_test.shape[2],1)\n",
    " "
   ]
  },
  {
   "cell_type": "markdown",
   "id": "former-childhood",
   "metadata": {},
   "source": [
    "# AUGMENTATAION OF IMAGES: TO MAKEIT MORE GENERIC"
   ]
  },
  {
   "cell_type": "code",
   "execution_count": null,
   "id": "requested-japan",
   "metadata": {},
   "outputs": [],
   "source": [
    "dataGen= ImageDataGenerator(width_shift_range=0.1,   # 0.1 = 10%     IF MORE THAN 1 E.G 10 THEN IT REFFERS TO NO. OF  PIXELS EG 10 PIXELS\n",
    "                            height_shift_range=0.1,\n",
    "                            zoom_range=0.2,  # 0.2 MEANS CAN GO FROM 0.8 TO 1.2\n",
    "                            shear_range=0.1,  # MAGNITUDE OF SHEAR ANGLE\n",
    "                            rotation_range=10)  # DEGREES"
   ]
  },
  {
   "cell_type": "code",
   "execution_count": null,
   "id": "demonstrated-container",
   "metadata": {},
   "outputs": [],
   "source": [
    "dataGen.fit(X_train)\n",
    "batches= dataGen.flow(X_train,y_train,batch_size=20)  # REQUESTING DATA GENRATOR TO GENERATE IMAGES  BATCH SIZE = NO. OF IMAGES CREAED EACH TIME ITS CALLED\n",
    "X_batch,y_batch = next(batches)\n",
    " \n",
    "# TO SHOW AGMENTED IMAGE SAMPLES\n",
    "fig,axs=plt.subplots(1,15,figsize=(20,5))\n",
    "fig.tight_layout()\n",
    " \n",
    "for i in range(15):\n",
    "    axs[i].imshow(X_batch[i].reshape(imageDimesions[0],imageDimesions[1]))\n",
    "    axs[i].axis('off')\n",
    "plt.show()\n",
    " "
   ]
  },
  {
   "cell_type": "code",
   "execution_count": null,
   "id": "unauthorized-triple",
   "metadata": {},
   "outputs": [],
   "source": [
    "y_train = to_categorical(y_train,noOfClasses)\n",
    "y_validation = to_categorical(y_validation,noOfClasses)\n",
    "y_test = to_categorical(y_test,noOfClasses)"
   ]
  },
  {
   "cell_type": "markdown",
   "id": "functioning-address",
   "metadata": {},
   "source": [
    "# CONVOLUTION NEURAL NETWORK MODEL"
   ]
  },
  {
   "cell_type": "code",
   "execution_count": null,
   "id": "hazardous-shark",
   "metadata": {},
   "outputs": [],
   "source": [
    "def myModel():\n",
    "    no_Of_Filters=60\n",
    "    size_of_Filter=(5,5) # THIS IS THE KERNEL THAT MOVE AROUND THE IMAGE TO GET THE FEATURES.\n",
    "                         # THIS WOULD REMOVE 2 PIXELS FROM EACH BORDER WHEN USING 32 32 IMAGE\n",
    "    size_of_Filter2=(3,3)\n",
    "    size_of_pool=(2,2)  # SCALE DOWN ALL FEATURE MAP TO GERNALIZE MORE, TO REDUCE OVERFITTING\n",
    "    no_Of_Nodes = 500   # NO. OF NODES IN HIDDEN LAYERS\n",
    "    model= Sequential()\n",
    "    model.add((Conv2D(no_Of_Filters,size_of_Filter,input_shape=(imageDimesions[0],imageDimesions[1],1),activation='relu')))  # ADDING MORE CONVOLUTION LAYERS = LESS FEATURES BUT CAN CAUSE ACCURACY TO INCREASE\n",
    "    model.add((Conv2D(no_Of_Filters, size_of_Filter, activation='relu')))\n",
    "    model.add(MaxPooling2D(pool_size=size_of_pool)) # DOES NOT EFFECT THE DEPTH/NO OF FILTERS\n",
    " \n",
    "    model.add((Conv2D(no_Of_Filters//2, size_of_Filter2,activation='relu')))\n",
    "    model.add((Conv2D(no_Of_Filters // 2, size_of_Filter2, activation='relu')))\n",
    "    model.add(MaxPooling2D(pool_size=size_of_pool))\n",
    "    model.add(Dropout(0.5))\n",
    " \n",
    "    model.add(Flatten())\n",
    "    model.add(Dense(no_Of_Nodes,activation='relu'))\n",
    "    model.add(Dropout(0.5)) # INPUTS NODES TO DROP WITH EACH UPDATE 1 ALL 0 NONE\n",
    "    model.add(Dense(noOfClasses,activation='softmax')) # OUTPUT LAYER\n",
    "    # COMPILE MODEL\n",
    "    model.compile(Adam(lr=0.001),loss='categorical_crossentropy',metrics=['accuracy'])\n",
    "    return model\n",
    " "
   ]
  },
  {
   "cell_type": "markdown",
   "id": "recovered-heating",
   "metadata": {},
   "source": [
    "# TRAIN"
   ]
  },
  {
   "cell_type": "code",
   "execution_count": null,
   "id": "persistent-repeat",
   "metadata": {},
   "outputs": [],
   "source": [
    "model = myModel()\n",
    "print(model.summary())\n",
    "history=model.fit_generator(dataGen.flow(\n",
    "    X_train,\n",
    "    y_train,\n",
    "    batch_size=batch_size_val),\n",
    "                            steps_per_epoch=steps_per_epoch_val,\n",
    "                            epochs=epochs_val,validation_data=(X_validation,y_validation),shuffle=1)\n",
    " "
   ]
  },
  {
   "cell_type": "markdown",
   "id": "british-exchange",
   "metadata": {},
   "source": [
    "# PLOT"
   ]
  },
  {
   "cell_type": "code",
   "execution_count": null,
   "id": "unnecessary-kansas",
   "metadata": {},
   "outputs": [],
   "source": [
    "import matplotlib.pyplot as plt\n",
    "plt.figure(1)\n",
    "\n",
    "plt.plot(history.history['loss'])\n",
    "\n",
    "plt.plot(history.history['val_loss'])\n",
    "plt.legend(['training','validation'])\n",
    "plt.title('loss')\n",
    "plt.xlabel('epoch')\n",
    "plt.figure(2)\n",
    "plt.plot(history.history['accuracy'])\n",
    "plt.plot(history.history['val_accuracy'])\n",
    "plt.legend(['training','validation'])\n",
    "plt.title('Acurracy')\n",
    "plt.xlabel('epoch')\n",
    "plt.show()"
   ]
  },
  {
   "cell_type": "markdown",
   "id": "closed-immigration",
   "metadata": {},
   "source": [
    "# Test accuracy"
   ]
  },
  {
   "cell_type": "code",
   "execution_count": null,
   "id": "certain-telephone",
   "metadata": {},
   "outputs": [],
   "source": [
    "score =model.evaluate(X_test,y_test,verbose=0)\n",
    "print('Test Score:',score[0])\n",
    "print('Test Accuracy:',score[1])"
   ]
  },
  {
   "cell_type": "markdown",
   "id": "front-china",
   "metadata": {},
   "source": [
    "# STORE THE MODEL AS A PICKLE OBJECT"
   ]
  },
  {
   "cell_type": "code",
   "execution_count": null,
   "id": "bored-harbor",
   "metadata": {},
   "outputs": [],
   "source": [
    "pip install pickle5"
   ]
  },
  {
   "cell_type": "code",
   "execution_count": null,
   "id": "wrapped-success",
   "metadata": {},
   "outputs": [],
   "source": [
    "import pickle5 as pickle\n",
    "\n",
    "pickle_out= open(\"model_trained.p\",\"wb\")  # wb = WRITE BYTE\n",
    "pickle.dump(model,pickle_out)\n",
    "pickle_out.close()\n",
    "cv2.waitKey(0)"
   ]
  },
  {
   "cell_type": "code",
   "execution_count": null,
   "id": "tough-discharge",
   "metadata": {},
   "outputs": [],
   "source": []
  }
 ],
 "metadata": {
  "kernelspec": {
   "display_name": "Python 3",
   "language": "python",
   "name": "python3"
  },
  "language_info": {
   "codemirror_mode": {
    "name": "ipython",
    "version": 3
   },
   "file_extension": ".py",
   "mimetype": "text/x-python",
   "name": "python",
   "nbconvert_exporter": "python",
   "pygments_lexer": "ipython3",
   "version": "3.8.7"
  }
 },
 "nbformat": 4,
 "nbformat_minor": 5
}
